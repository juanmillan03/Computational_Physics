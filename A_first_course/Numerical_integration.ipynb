{
 "cells": [
  {
   "cell_type": "markdown",
   "id": "9e401cbe",
   "metadata": {},
   "source": [
    "### Numerical integration\n",
    "The most common task of computational physics is the evaluation of integrals. Certainly, a numerical integration should never be performed if the integral has an analytic solution. it is important have a second view with some brute-force numerical method.\n",
    "\n",
    "To begin this journey we start with the value of the function and multipy it with a factor something like this $I\\approx \\sum _{i=0}^N W_if_i$ where $x_i$ are the evaluation point, $f_i=f(x_i)$ and $W_i$ is the weight given bay the i-th point and N+1 is the number of points evaluated, think about that spaced beatween the points is h. \n",
    "\n",
    "to see it simple take $x_0=a$ and $x_1=b$ the limits of the integration. lets applay this to these simplest integrands, $f(x)=1$ and $f(x)=x$\n",
    "$$\n",
    "\\int_{x_0}^{x_1}1dx=x_1-x_0=W_0+W_1 \\qquad \\int_{x_0}^{x_1}xdx=\\frac{x_1²-x_0²}{2}=W_0x_0+W_1x_1\n",
    "$$\n",
    "using these two equation we can find the two unknowns($W_0$ $W_1$)\n",
    "$$\n",
    "W_0=W_1=\\frac{x_1-x_0}{2} \\;\\text{writing }h=b-a\\qquad \\int_{x_0}^{x_1}f(x)dx\\approx \\frac{h}{2}(f_0+f_1)\n",
    "$$\n",
    "\n",
    "the so-called traaspezoid rule.we’ll write these formulas as equalities, making use of Lagrange’s expression for the remainder term in the Taylor series\n",
    "$$\n",
    "\\int_{x_0}^{x_1} f(x)\\,dx \n",
    "= \\frac{h}{2}\\left(f_0 + f_1\\right) \n",
    "- \\frac{h^3}{12} f^{[2]}(\\xi),\n",
    "$$\n",
    "\n",
    "where $\\xi$ is some point within the region of integration. Of course, we’re not\n",
    "limited to $N=1$; for three points, we find the equations\n",
    "\n",
    "$$\n",
    "\\int_{x_0}^{x_2} 1\\,dx = x_2 - x_0 = W_0 + W_1 + W_2,\n",
    "$$\n",
    "\n",
    "$$\n",
    "\\int_{x_0}^{x_2} x\\,dx = \\frac{x_2^2 - x_0^2}{2}= W_0 x_0 + W_1 x_1 + W_2 x_2,\n",
    "$$\n",
    "and\n",
    "$$\n",
    "\\int_{x_0}^{x_2} x^2\\,dx = \\frac{x_2^3 - x_0^3}{3}= W_0 x_0^2 + W_1 x_1^2 + W_2 x_2^2.\n",
    "$$\n",
    "Solving for the weights, we are led to Simpson’s rule,\n",
    "$$\n",
    "\\int_{x_0}^{x_2} f(x)\\,dx = \\frac{h}{3}\\left(f_0 + 4f_1 + f_2\\right) - \\frac{h^5}{90} f^{[4]}(\\xi).\n",
    "$$\n",
    "\n",
    "As an alternative to higher order approximation, we can divide the total integration region into many segment, so we can use any rule in this small segments. Starting dividing the region form x_0 to x_n into N segments of width h.\n",
    "\n",
    "for trapezoid rule:\n",
    "$$\n",
    "\\int_{x_0}^{x_N}f(x)dx\\approx h(\\frac{f_0}{2}+f_1+f_2+\\cdots+f_{N-1}+\\frac{f_N}{2})\n",
    "$$\n",
    "<p align=\"center\">\n",
    "  <img src=\"images/trapezoid_rule.png\" alt=\"trape_well\" width=\"400\">\n",
    "</p>"
   ]
  },
  {
   "cell_type": "markdown",
   "id": "6dd9ff29",
   "metadata": {},
   "source": []
  },
  {
   "cell_type": "markdown",
   "id": "2c06525c",
   "metadata": {},
   "source": []
  },
  {
   "cell_type": "code",
   "execution_count": null,
   "id": "7abdd67b",
   "metadata": {},
   "outputs": [],
   "source": []
  },
  {
   "cell_type": "code",
   "execution_count": null,
   "id": "1def3aba",
   "metadata": {},
   "outputs": [],
   "source": []
  }
 ],
 "metadata": {
  "language_info": {
   "name": "python"
  }
 },
 "nbformat": 4,
 "nbformat_minor": 5
}
